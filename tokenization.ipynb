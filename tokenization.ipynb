{
 "cells": [
  {
   "cell_type": "code",
   "execution_count": 4,
   "metadata": {},
   "outputs": [
    {
     "name": "stdout",
     "output_type": "stream",
     "text": [
      "<re.Match object; span=(0, 0), match=''>\n"
     ]
    }
   ],
   "source": [
    "import re\n",
    "txt = \"Hello Word\"\n",
    "a = re.search(\"a*\", txt)\n",
    "print(a)"
   ]
  },
  {
   "cell_type": "code",
   "execution_count": 5,
   "metadata": {},
   "outputs": [
    {
     "name": "stdout",
     "output_type": "stream",
     "text": [
      "['o', 'o']\n"
     ]
    }
   ],
   "source": [
    "b = re.findall(\"o\", txt)\n",
    "print(b)"
   ]
  },
  {
   "cell_type": "code",
   "execution_count": 7,
   "metadata": {},
   "outputs": [
    {
     "name": "stdout",
     "output_type": "stream",
     "text": [
      "<re.Match object; span=(2, 5), match='llo'>\n",
      "None\n"
     ]
    }
   ],
   "source": [
    "c = re.search('llo', txt)\n",
    "print(c)\n",
    "d = re.search('hd', txt)\n",
    "print(d)"
   ]
  },
  {
   "cell_type": "code",
   "execution_count": 8,
   "metadata": {},
   "outputs": [
    {
     "name": "stdout",
     "output_type": "stream",
     "text": [
      "['Hello', 'Word']\n"
     ]
    }
   ],
   "source": [
    "e = re.split(\"\\s\", txt)\n",
    "print(e)"
   ]
  },
  {
   "cell_type": "code",
   "execution_count": 10,
   "metadata": {},
   "outputs": [
    {
     "name": "stdout",
     "output_type": "stream",
     "text": [
      "Hell_ W_rd\n"
     ]
    }
   ],
   "source": [
    "f = re.sub('o', '_', txt)\n",
    "print(f)"
   ]
  },
  {
   "cell_type": "code",
   "execution_count": 21,
   "metadata": {},
   "outputs": [
    {
     "name": "stdout",
     "output_type": "stream",
     "text": [
      "['e', 'l', 'l', 'o', 'o', 'r', 'd']\n",
      "['H', 'e', 'l', 'l', 'o', 'W', 'o', 'r', 'd']\n",
      "[]\n"
     ]
    }
   ],
   "source": [
    "g = re.findall(\"[a-z]\", txt)\n",
    "print(g)\n",
    "h = re.findall(\"[a-zA-Z]\", txt)\n",
    "print(h)\n",
    "i = re.findall(\"[\\d]\", txt)\n",
    "print(i)"
   ]
  },
  {
   "cell_type": "code",
   "execution_count": 25,
   "metadata": {},
   "outputs": [
    {
     "name": "stdout",
     "output_type": "stream",
     "text": [
      "['hello bu']\n"
     ]
    }
   ],
   "source": [
    "txt =\"hello buddy\"\n",
    "j = re.findall(\"he......\", txt)\n",
    "print(j)"
   ]
  },
  {
   "cell_type": "code",
   "execution_count": 33,
   "metadata": {},
   "outputs": [
    {
     "name": "stdout",
     "output_type": "stream",
     "text": [
      "['h']\n",
      "[]\n",
      "['y']\n"
     ]
    }
   ],
   "source": [
    "i = re.findall(\"^h\", txt)\n",
    "print(i)\n",
    "j =re.findall(\"^H\", txt)\n",
    "print(j)\n",
    "k = re.findall(\"y$\", txt)\n",
    "print(k)"
   ]
  },
  {
   "cell_type": "code",
   "execution_count": 46,
   "metadata": {},
   "outputs": [
    {
     "name": "stdout",
     "output_type": "stream",
     "text": [
      "['', '', '', '', 'o', '', '', '', '', '', '', '']\n",
      "['o']\n",
      "['hello']\n"
     ]
    }
   ],
   "source": [
    "l = re.findall(\"o*\", txt)\n",
    "print(l)\n",
    "m = re.findall(\"o+\", txt)\n",
    "print(m)\n",
    "n =re.findall(\"he.l*o+\", txt)\n",
    "print(n)"
   ]
  },
  {
   "cell_type": "code",
   "execution_count": 58,
   "metadata": {},
   "outputs": [
    {
     "name": "stdout",
     "output_type": "stream",
     "text": [
      "Yes, there is a match!\n"
     ]
    }
   ],
   "source": [
    "txt = \"The ra6in in Spain\"\n",
    "x = re.findall(\"\\AThe\", txt)\n",
    "if x:\n",
    "  print(\"Yes, there is a match!\")\n",
    "else:\n",
    "  print(\"No match\")"
   ]
  },
  {
   "cell_type": "code",
   "execution_count": 59,
   "metadata": {},
   "outputs": [
    {
     "name": "stdout",
     "output_type": "stream",
     "text": [
      "[]\n",
      "['ain']\n"
     ]
    }
   ],
   "source": [
    "o = re.findall(r\"\\bain\", txt)\n",
    "print(o)\n",
    "p = o = re.findall(r\"\\Bain\", txt)\n",
    "print(p)"
   ]
  },
  {
   "cell_type": "code",
   "execution_count": 60,
   "metadata": {},
   "outputs": [
    {
     "name": "stdout",
     "output_type": "stream",
     "text": [
      "['6']\n"
     ]
    }
   ],
   "source": [
    "q = re.findall(\"\\d\", txt) # doesn't contain any digit '\\D'\n",
    "print(q)"
   ]
  },
  {
   "cell_type": "code",
   "execution_count": null,
   "metadata": {},
   "outputs": [],
   "source": []
  }
 ],
 "metadata": {
  "kernelspec": {
   "display_name": "base",
   "language": "python",
   "name": "python3"
  },
  "language_info": {
   "codemirror_mode": {
    "name": "ipython",
    "version": 3
   },
   "file_extension": ".py",
   "mimetype": "text/x-python",
   "name": "python",
   "nbconvert_exporter": "python",
   "pygments_lexer": "ipython3",
   "version": "3.11.7"
  }
 },
 "nbformat": 4,
 "nbformat_minor": 2
}
